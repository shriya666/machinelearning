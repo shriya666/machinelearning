{
 "cells": [
  {
   "cell_type": "code",
   "execution_count": null,
   "id": "f8df85b4",
   "metadata": {
    "vscode": {
     "languageId": "plaintext"
    }
   },
   "outputs": [],
   "source": [
    "import os\n",
    "import shutil\n",
    "import random\n",
    "from sklearn.model_selection import train_test_split\n",
    "import warnings\n",
    "import logging\n",
    "warnings.filterwarnings(\"ignore\")\n",
    "logging.getLogger(\"PIL\").setLevel(logging.ERROR)\n",
    "import numpy as np\n",
    "import tensorflow as tf\n",
    "from tensorflow.keras.models import Sequential\n",
    "from tensorflow.keras.layers import Conv2D, MaxPooling2D, Flatten, Dense, Dropout, Rescaling\n",
    "from tensorflow.keras.preprocessing.image import ImageDataGenerator\n",
    "import matplotlib.pyplot as plt\n",
    "from tensorflow.keras.callbacks import EarlyStopping, ReduceLROnPlateau, ModelCheckpoint\n",
    "import seaborn as sns\n",
    "from sklearn.metrics import confusion_matrix, classification_report"
   ]
  },
  {
   "cell_type": "code",
   "execution_count": null,
   "id": "5e84d47c",
   "metadata": {
    "vscode": {
     "languageId": "plaintext"
    }
   },
   "outputs": [],
   "source": [
    "base_directoryectory= \"/workspaces/machinelearning/animaldata\"\n",
    "output_directoryectory= \"/workspaces/machinelearning/output\"\n",
    "\n",
    "train_directoryectory= os.path.join(output_directoryectory, \"train\")\n",
    "os.mkdirectory(train_directoryectory)\n",
    "\n",
    "test_directoryectory= os.path.join(output_directoryectory, \"test\")\n",
    "os.mkdirectory(test_directoryectory)\n",
    "\n",
    "validation_directoryectory= os.path.join(output_directoryectory, \"validation\")\n",
    "os.mkdirectory(validation_directoryectory)\n",
    "\n",
    "train_cats_directory = os.path.join(train_directory, 'cats')\n",
    "os.mkdirectory(train_cats_directory)\n",
    "train_dogs_directory = os.path.join(train_directory, 'dogs')\n",
    "os.mkdirectory(train_dogs_directory)\n",
    "\n",
    "test_cats_directory = os.path.join(test_directory, 'cats')\n",
    "os.mkdirectory(test_cats_directory)\n",
    "test_dogs_directory = os.path.join(test_directory, 'dogs')\n",
    "os.mkdirectory(test_dogs_directory)\n",
    "\n",
    "validation_cats_directory = os.path.join(validation_directory, 'cats')\n",
    "os.mkdirectory(validation_cats_directory)\n",
    "validation_dogs_directory = os.path.join(validation_directory, 'dogs')\n",
    "os.mkdirectory(validation_dogs_directory)\n",
    "\n",
    "\n",
    "cat_directory= \"/workspaces/machinelearning/animaldata/Cat\"\n",
    "dog_directory= \"/workspaces/machinelearning/animaldata/Dog\"\n",
    "\n",
    "fnamestrain= [\"{}.jpg\". format(i) for i in range(8750)]\n",
    "fnamestest= [\"{}.jpg\". format(i) for i in range(8750, 11250)]\n",
    "fnamesval= [\"{}.jpg\". format(i) for i in range(11250, 12499)]\n",
    "\n",
    "def Calc(src, dst): \n",
    "    if not os.path.exists(src):\n",
    "        return \n",
    "    if os.path.getsize(src)==0:\n",
    "        return \n",
    "\n",
    "    try:\n",
    "        shutil.copyfile(src, dst)\n",
    "    except Exception as e:\n",
    "        print(f\"Broken file\", src)\n",
    "\n",
    "for fname in fnametrain:\n",
    "    Calc(os.path.join(cat_directory, fnametrain), os.path.join(train_cats_directory, fname))\n",
    "for fname in fnametest:\n",
    "    Calc(os.path.join(cat_directory, fnametest), os.path.join(test_cats_directory, fname))\n",
    "\n",
    "for fname in fnameval:\n",
    "    Calc(os.path.join(cat_directory, fnameval), os.path.join(validation_cats_directory, fname))\n",
    "\n",
    "\n",
    "for fname in fnametrain:\n",
    "    Calc(os.path.join(dog_directory, fnametrain), os.path.join(train_dogs_directory, fname))\n",
    "for fname in fnametest:\n",
    "    Calc(os.path.join(dog_directory, fnametest), os.path.join(test_dogs_directory, fname))\n",
    "\n",
    "for fname in fnameval:\n",
    "    Calc(os.path.join(dog_directory, fnameval), os.path.join(validation_dogs_directory, fname))"
   ]
  }
 ],
 "metadata": {
  "language_info": {
   "name": "python"
  }
 },
 "nbformat": 4,
 "nbformat_minor": 5
}
